{
 "cells": [
  {
   "cell_type": "markdown",
   "metadata": {},
   "source": [
    "# hossam eldein mohamed osman G1 Ai nasser"
   ]
  },
  {
   "cell_type": "markdown",
   "metadata": {},
   "source": [
    "# Implement  Quick sort\n",
    "\n"
   ]
  },
  {
   "cell_type": "code",
   "execution_count": 3,
   "metadata": {},
   "outputs": [
    {
     "name": "stdout",
     "output_type": "stream",
     "text": [
      "[-6, -3, 1, 2, 3, 5, 6, 8, 9]\n"
     ]
    }
   ],
   "source": [
    "def partition(input_list,low,high):\n",
    "    i = (low - 1)\n",
    "    pivot = input_list[high]\n",
    "    for j in range(low, high):\n",
    "        if input_list[j] <= pivot:\n",
    "            i = i + 1\n",
    "            input_list[i], input_list[j] =  input_list[j], input_list[i]\n",
    "    input_list[i+1],input_list[high] = input_list[high],input_list[i+1]\n",
    "    return (i+1)\n",
    "def quickSort(input_list, low, high):\n",
    "    if low < high:\n",
    "        partition_index = partition(input_list,low,high)\n",
    "        quickSort(input_list, low, partition_index - 1)\n",
    "        quickSort(input_list, partition_index+1, high)\n",
    "input_l = [9, -3, 5, 2, 6, 8, -6, 1, 3]\n",
    "list_length = len(input_l)\n",
    "quickSort(input_l, 0, list_length -1)\n",
    "print(input_l)"
   ]
  },
  {
   "cell_type": "markdown",
   "metadata": {},
   "source": [
    "# What is the complexity of Quicksort"
   ]
  },
  {
   "cell_type": "raw",
   "metadata": {},
   "source": [
    "# lets T(n) ne total time complexity for worst case\n",
    "n = total number of elements\n",
    "\n",
    "T(n) = T(n-1) + constant*n\n",
    "as we are dividing array into two parts one consist of single element and other of n-1\n",
    "and we will traverse individual array\n",
    "\n",
    "T(n) = T(n-2) + constant*(n-1) + constant*n =  T(n-2) + 2*constant*n - constant\n",
    "T(n) = T(n-3) + 3*constant*n - 2*constant - constant\n",
    "T(n) = T(n-k) + k*constant*n - (k-1)*constant ..... - 2*constant - constant\n",
    "\n",
    "T(n) = T(n-k) + k*constant*n - constant*[(k-1) ....  + 3 + 2 + 1]\n",
    "T(n) = T(n-k) + k*n*constant - constant*[k*(k-1)/2]\n",
    "put n=k\n",
    "T(n) = T(0) + constant*n*n - constant*[n*(n-1)/2]\n",
    "removing constant terms\n",
    "T(n) = n*n - n*(n-1)/2\n",
    "T(n) = O(n^2)"
   ]
  }
 ],
 "metadata": {
  "kernelspec": {
   "display_name": "Python 3",
   "language": "python",
   "name": "python3"
  },
  "language_info": {
   "codemirror_mode": {
    "name": "ipython",
    "version": 3
   },
   "file_extension": ".py",
   "mimetype": "text/x-python",
   "name": "python",
   "nbconvert_exporter": "python",
   "pygments_lexer": "ipython3",
   "version": "3.7.6"
  }
 },
 "nbformat": 4,
 "nbformat_minor": 4
}
