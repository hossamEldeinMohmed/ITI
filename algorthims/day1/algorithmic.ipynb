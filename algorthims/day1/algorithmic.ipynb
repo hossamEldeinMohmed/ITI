{
 "cells": [
  {
   "cell_type": "markdown",
   "metadata": {},
   "source": [
    "# find factorial itretvle and recursive"
   ]
  },
  {
   "cell_type": "code",
   "execution_count": 2,
   "metadata": {},
   "outputs": [
    {
     "name": "stdout",
     "output_type": "stream",
     "text": [
      "120\n"
     ]
    }
   ],
   "source": [
    "def etr_factorial(i): #itrative O(n)\n",
    "  result=1\n",
    "  while i!=0:\n",
    "    result*=i\n",
    "    i-=1\n",
    "  return result\n",
    "print (etr_factorial(5))\n",
    "\n"
   ]
  },
  {
   "cell_type": "code",
   "execution_count": 3,
   "metadata": {},
   "outputs": [
    {
     "name": "stdout",
     "output_type": "stream",
     "text": [
      "120\n"
     ]
    }
   ],
   "source": [
    "def rec_factorial(n):#recursive\n",
    "  if n>=1:\n",
    "    return n*rec_factorial(n-1)\n",
    "  else:\n",
    "    return 1\n",
    "print(rec_factorial(5))"
   ]
  },
  {
   "cell_type": "markdown",
   "metadata": {},
   "source": [
    "# find Fibonacci recursive"
   ]
  },
  {
   "cell_type": "code",
   "execution_count": null,
   "metadata": {},
   "outputs": [],
   "source": [
    "def etr_Fibonacci(n):#itrative O(n)\n",
    "  n1=0\n",
    "  n2=1\n",
    "  if n==0:\n",
    "    print(n1)\n",
    "    return\n",
    "  if n==1:\n",
    "    print(n2)\n",
    "    return\n",
    "  for i in range(2,n+1):\n",
    "     next=n1+n2\n",
    "     n1=n2\n",
    "     n2=next\n",
    "  return n2\n",
    "print(etr_Fibonacci(3))\n"
   ]
  },
  {
   "cell_type": "code",
   "execution_count": null,
   "metadata": {},
   "outputs": [],
   "source": [
    "def rec_Fibonacci(n):#recursive\n",
    "    if n==0: \n",
    "      return 0\n",
    "    elif n==1:\n",
    "      return 1\n",
    "    else:\n",
    "      return rec_Fibonacci(n-1)+rec_Fibonacci(n-2)\n",
    "print(rec_Fibonacci(3))"
   ]
  },
  {
   "cell_type": "code",
   "execution_count": 1,
   "metadata": {},
   "outputs": [],
   "source": [
    "def etr_linerSearch(arr,n): #O( n)\n",
    "    for i in range(len(arr)):\n",
    "      if arr[i]==n:\n",
    "        return i\n",
    "    return -1\n",
    "\n",
    "i=0\n",
    "def rec_linerSearch(arr,index,n):\n",
    "\n",
    "  if len(arr)==0:\n",
    "    return -1\n",
    "  elif arr[0]==n:\n",
    "    print(index)\n",
    "    #if we need the value\n",
    "    #global  i \n",
    "    #i= index\n",
    "    return\n",
    "  else:\n",
    "    index+=1\n",
    "    \n",
    "    rec_linerSearch(arr[1 :],index,n)\n",
    "\n",
    "    \n"
   ]
  },
  {
   "cell_type": "code",
   "execution_count": 2,
   "metadata": {},
   "outputs": [
    {
     "name": "stdout",
     "output_type": "stream",
     "text": [
      "6\n",
      "6\n"
     ]
    }
   ],
   "source": [
    "arr=[6,3,7,0,2,6,8]\n",
    "print(etr_linerSearch(arr,8))\n",
    "rec_linerSearch(arr,0,8)\n",
    "#print(i)"
   ]
  },
  {
   "cell_type": "markdown",
   "metadata": {},
   "source": [
    "# binary search etrative and recursive"
   ]
  },
  {
   "cell_type": "code",
   "execution_count": 16,
   "metadata": {},
   "outputs": [],
   "source": [
    "def etr_binarySearch(arr,n):#etrative complexite O(log n)\n",
    "    low = 0\n",
    "    high = len(arr) - 1\n",
    "    mid = 0\n",
    "    while low <= high:\n",
    "        mid = (high + low) // 2\n",
    "        if arr[mid] < n:\n",
    "            low = mid + 1\n",
    "        elif arr[mid] > n:\n",
    "            high = mid - 1\n",
    "        else: \n",
    "            return mid\n",
    "    return -1\n",
    " ##################################\n",
    "def rec_binarySearch(arr,low,high,n):\n",
    "    if high >= low:\n",
    "        mid = (high + low) // 2\n",
    "        if arr[mid] == n:\n",
    "            return mid\n",
    "        elif arr[mid] > n:\n",
    "            return rec_binarySearch(arr, low, mid-1, n)\n",
    "        else:\n",
    "            return rec_binarySearch(arr, mid+1, high, n)\n",
    "    else:\n",
    "        return -1"
   ]
  },
  {
   "cell_type": "code",
   "execution_count": 22,
   "metadata": {},
   "outputs": [
    {
     "name": "stdout",
     "output_type": "stream",
     "text": [
      "6\n",
      "6\n"
     ]
    }
   ],
   "source": [
    "arr=[6,3,7,0,2,6,8]\n",
    "arr.sort()\n",
    "print(etr_binarySearch(arr,8))\n",
    "print(rec_binarySearch(arr,0,len(arr)-1,8))"
   ]
  },
  {
   "cell_type": "markdown",
   "metadata": {},
   "source": [
    "# Insertion Sort iterative and recurcive"
   ]
  },
  {
   "cell_type": "code",
   "execution_count": 25,
   "metadata": {},
   "outputs": [],
   "source": [
    "def etr_insertionSort(arr):#iterative O(n**2)\n",
    "    \n",
    "    for i in range (1,len(arr)):\n",
    "        key = arr[i]\n",
    "        j = i - 1\n",
    "        while j >= 0 and key < arr[j] :\n",
    "                arr[j + 1] = arr[j]\n",
    "                j -= 1\n",
    "         \n",
    "        arr[j + 1] = key\n",
    "        \n",
    "    return arr\n",
    "def rec_insertionSort(arr,i):#recurcive\n",
    "    key = arr[i]\n",
    "    j = i - 1\n",
    "    while (j >= 0) and (key < arr[j]) :\n",
    "        arr[j + 1] = arr[j] \n",
    "        j -= 1\n",
    "    arr[j + 1] = key\n",
    "            \n",
    "    if (i+1 < len(arr)):\n",
    "        rec_insertionSort(arr,i+1)\n",
    "        \n",
    "    return arr"
   ]
  },
  {
   "cell_type": "code",
   "execution_count": 27,
   "metadata": {},
   "outputs": [
    {
     "name": "stdout",
     "output_type": "stream",
     "text": [
      "[0, 2, 3, 6, 6, 7, 8]\n",
      "[0, 2, 3, 6, 6, 7, 8]\n"
     ]
    }
   ],
   "source": [
    "arr=[6,3,7,0,2,6,8]\n",
    "print(etr_insertionSort(arr))\n",
    "print(rec_insertionSort(arr,0))"
   ]
  },
  {
   "cell_type": "markdown",
   "metadata": {},
   "source": [
    "# insartion sort "
   ]
  },
  {
   "cell_type": "code",
   "execution_count": 33,
   "metadata": {},
   "outputs": [],
   "source": [
    "def insertionSort(array):#O(n**2)\n",
    "\n",
    "    for index in range(1, len(array)):\n",
    "        currentValue = array[index]\n",
    "        currentPosition = index\n",
    "        while currentPosition > 0 and array[currentPosition - 1] > currentValue:\n",
    "            array[currentPosition] = array[currentPosition -1]\n",
    "            currentPosition = currentPosition - 1\n",
    "        array[currentPosition] = currentValue"
   ]
  },
  {
   "cell_type": "code",
   "execution_count": 32,
   "metadata": {},
   "outputs": [
    {
     "name": "stdout",
     "output_type": "stream",
     "text": [
      "[0, 2, 3, 6, 6, 7, 8]\n"
     ]
    }
   ],
   "source": [
    "arr=[6,3,7,0,2,6,8]\n",
    "insertionSort(arr)\n",
    "print(arr)"
   ]
  },
  {
   "cell_type": "markdown",
   "metadata": {},
   "source": [
    "# Bubble Sort witout  and with swap"
   ]
  },
  {
   "cell_type": "code",
   "execution_count": 38,
   "metadata": {},
   "outputs": [],
   "source": [
    "def witout_bubbleSort(arr):#O(n**2)\n",
    "    n = len(arr)\n",
    "    for i in range (n):\n",
    "        for j in range (0 , n-i-1):\n",
    "            if arr [j] > arr [j+1] :\n",
    "                arr[j], arr [j+1] = arr [j+1], arr [j]\n",
    "                \n",
    "    return arr\n",
    "def with_bubbleSort(arr):\n",
    "    for i in range(len(arr)):\n",
    "        swapped = False\n",
    "        for j in range(0, len(arr)-1):\n",
    "            if arr[j]>arr[j+1] :\n",
    "                arr[j],arr[j+1]=arr[j+1],arr[j]\n",
    "                swapped = True\n",
    "        if swapped == False:\n",
    "            break\n",
    "\n"
   ]
  },
  {
   "cell_type": "code",
   "execution_count": 40,
   "metadata": {},
   "outputs": [
    {
     "name": "stdout",
     "output_type": "stream",
     "text": [
      "[0, 2, 3, 6, 6, 7, 8]\n"
     ]
    }
   ],
   "source": [
    "arr=[6,3,7,0,2,6,8]\n",
    "witout_bubbleSort(arr)\n",
    "print(arr)"
   ]
  },
  {
   "cell_type": "code",
   "execution_count": 41,
   "metadata": {},
   "outputs": [
    {
     "name": "stdout",
     "output_type": "stream",
     "text": [
      "[0, 2, 3, 6, 6, 7, 8]\n"
     ]
    }
   ],
   "source": [
    "arr=[6,3,7,0,2,6,8]\n",
    "with_bubbleSort(arr)\n",
    "print(arr)"
   ]
  },
  {
   "cell_type": "markdown",
   "metadata": {},
   "source": [
    "# Greatest common Divisor"
   ]
  },
  {
   "cell_type": "code",
   "execution_count": 45,
   "metadata": {},
   "outputs": [],
   "source": [
    "def GCD(n1,n2): #o(n)\n",
    "    for i in range(1,n1+n2):\n",
    "        if((n1%i==0) and (n2%i==0)):\n",
    "                gcd=i\n",
    "    return gcd"
   ]
  },
  {
   "cell_type": "code",
   "execution_count": 43,
   "metadata": {},
   "outputs": [],
   "source": [
    "def gcd(n1,n2):#lema \n",
    "   \n",
    "    \n",
    "    if n2==0:\n",
    "        print(n1)\n",
    "        return n1  \n",
    "    x=n1%n2\n",
    "    gcd(n2, x)\n",
    " "
   ]
  },
  {
   "cell_type": "code",
   "execution_count": 46,
   "metadata": {},
   "outputs": [
    {
     "name": "stdout",
     "output_type": "stream",
     "text": [
      "3\n",
      "3\n"
     ]
    }
   ],
   "source": [
    "print(GCD(15,12))\n",
    "gcd(15,12)"
   ]
  }
 ],
 "metadata": {
  "kernelspec": {
   "display_name": "Python 3",
   "language": "python",
   "name": "python3"
  },
  "language_info": {
   "codemirror_mode": {
    "name": "ipython",
    "version": 3
   },
   "file_extension": ".py",
   "mimetype": "text/x-python",
   "name": "python",
   "nbconvert_exporter": "python",
   "pygments_lexer": "ipython3",
   "version": "3.7.6"
  }
 },
 "nbformat": 4,
 "nbformat_minor": 4
}
