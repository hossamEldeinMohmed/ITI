{
 "cells": [
  {
   "cell_type": "markdown",
   "metadata": {},
   "source": [
    "## Practical Work 2"
   ]
  },
  {
   "cell_type": "markdown",
   "metadata": {},
   "source": [
    "For this practical work, the student will have to develop a Python program that is able to implement the gradient descent variants (Batch/Mini-Batch/Stochastic) in order to achieve the linear regression of a set of datapoints."
   ]
  },
  {
   "cell_type": "markdown",
   "metadata": {},
   "source": [
    "#### Import numpy, matplotlib.pyplot and make it inline"
   ]
  },
  {
   "cell_type": "code",
   "execution_count": 3,
   "metadata": {},
   "outputs": [],
   "source": [
    "import numpy as np\n",
    "import matplotlib.pyplot as plt"
   ]
  },
  {
   "cell_type": "markdown",
   "metadata": {},
   "source": [
    "To have a dataset or set of data points, the student must generate a pair of arrays <b>X</b> and <b>y</b> with the values in <b>X</b> equally distributed between <b>0</b> and <b>20</b> and the values in <b>y</b> such that: \n",
    "<b>yi = a*xi + b (and a = -2, b = 1)</b>\n"
   ]
  },
  {
   "cell_type": "code",
   "execution_count": 4,
   "metadata": {},
   "outputs": [
    {
     "name": "stdout",
     "output_type": "stream",
     "text": [
      "[ 0.          0.40816327  0.81632653  1.2244898   1.63265306  2.04081633\n",
      "  2.44897959  2.85714286  3.26530612  3.67346939  4.08163265  4.48979592\n",
      "  4.89795918  5.30612245  5.71428571  6.12244898  6.53061224  6.93877551\n",
      "  7.34693878  7.75510204  8.16326531  8.57142857  8.97959184  9.3877551\n",
      "  9.79591837 10.20408163 10.6122449  11.02040816 11.42857143 11.83673469\n",
      " 12.24489796 12.65306122 13.06122449 13.46938776 13.87755102 14.28571429\n",
      " 14.69387755 15.10204082 15.51020408 15.91836735 16.32653061 16.73469388\n",
      " 17.14285714 17.55102041 17.95918367 18.36734694 18.7755102  19.18367347\n",
      " 19.59183673 20.        ]\n"
     ]
    }
   ],
   "source": [
    "a= -2\n",
    "b =1\n",
    "x_i =np.linspace(0, 20)\n",
    "y_i = a * x_i + b \n",
    "print(x_i)"
   ]
  },
  {
   "cell_type": "code",
   "execution_count": 5,
   "metadata": {},
   "outputs": [
    {
     "data": {
      "text/plain": [
       "[<matplotlib.lines.Line2D at 0x242d2314d88>]"
      ]
     },
     "execution_count": 5,
     "metadata": {},
     "output_type": "execute_result"
    },
    {
     "data": {
      "image/png": "[encoded data removed]",
      "text/plain": [
       "<Figure size 432x288 with 1 Axes>"
      ]
     },
     "metadata": {
      "needs_background": "light"
     },
     "output_type": "display_data"
    }
   ],
   "source": [
    "plt.plot(x_i,y_i)"
   ]
  },
  {
   "cell_type": "markdown",
   "metadata": {},
   "source": [
    "#### Use your code from practical session 1 and create a function to perform GD for single variable linear regression.\n",
    "#### The function should take the following input parameters:\n",
    "##### Input data (X), Target Labels (y), Learning Rate (alpha), Maximum number of iterations\n",
    "#### The function should return the following:\n",
    "##### All Theta_0 and Theta_1 values till converge, and equivellant Losses, all hypothesis output, and optimum values of Theta_0 and Theta_1\n",
    "#### Note: you can choose any suitable stop criteria."
   ]
  },
  {
   "cell_type": "code",
   "execution_count": 29,
   "metadata": {},
   "outputs": [
    {
     "name": "stdout",
     "output_type": "stream",
     "text": [
      "4156\n"
     ]
    },
    {
     "data": {
      "image/png": "[encoded data removed]",
      "text/plain": [
       "<Figure size 432x288 with 1 Axes>"
      ]
     },
     "metadata": {
      "needs_background": "light"
     },
     "output_type": "display_data"
    },
    {
     "name": "stdout",
     "output_type": "stream",
     "text": [
      "-0.03873088417839249\n",
      "-1.9154682379167436\n"
     ]
    }
   ],
   "source": [
    "#Full implemintion Batch\n",
    "import numpy as np\n",
    "import matplotlib.pyplot as plt\n",
    "cost_all=[0]\n",
    "theta0_all=[]\n",
    "theta1_all=[]\n",
    "def cost(theta0,theta1,x_points,y_points):\n",
    "    \n",
    "    m=len(x_points)\n",
    "    h=(theta0+x_points*theta1)\n",
    "    \n",
    "    error=  sum((h-y_points)**2)\n",
    "    return  error/(2*m ) \n",
    "    \n",
    "def difft0(theta0,theta1,x_points,y_points):\n",
    "    m=len(x_points)\n",
    "    error= sum((theta0+x_points*theta1)-y_points)\n",
    "    return  error/m  \n",
    "\n",
    "def difft1(theta0,theta1,x_points,y_points):\n",
    "    error = 0\n",
    "    m=len(x_points)\n",
    "    error=  sum(((theta0+x_points*theta1)-y_points) * x_points)\n",
    "    return  error/m  \n",
    "def fit(x_points,y_points,initial_value,alpha,numOfItr):\n",
    "    theta0=theta1=initial_value\n",
    "    theta0_all.append(theta0)\n",
    "    theta1_all.append(theta1)\n",
    "    for i in range(numOfItr):\n",
    "        j= cost(theta0,theta1,x_points,y_points)\n",
    "        dt0 = difft0(theta0,theta1,x_points,y_points)\n",
    "        dt1 = difft1(theta0,theta1,x_points,y_points)\n",
    "        theta0 = theta0 - alpha*dt0\n",
    "        theta1 = theta1 - alpha*dt1\n",
    "        if abs(dt0)<0.00001 and abs(dt1)<0.00001:\n",
    "            break\n",
    "        elif abs(theta0_all[i]-theta0)<0.00001 and abs(theta1_all[i]-theta1)<0.00001:\n",
    "            print(i)\n",
    "\n",
    "            break\n",
    "        cost_all.append(j)\n",
    "        theta0_all.append(theta0)\n",
    "        theta1_all.append(theta1)\n",
    "    return theta0,theta1\n",
    "\n",
    "\n",
    "\n",
    "\n",
    "alpha = 0.00001\n",
    "theta0 , theta1 =fit(x_i,y_i,0.1,alpha,100000)\n",
    "plt.scatter(x_i, y_i)\n",
    "y_pred=[]\n",
    "\n",
    "y_pred=theta0+theta1*x_i\n",
    "\n",
    "\n",
    "plt.plot(x_i,y_pred )\n",
    "\n",
    "plt.show()\n",
    "\n",
    "print(theta0)\n",
    "print(theta1)"
   ]
  },
  {
   "cell_type": "code",
   "execution_count": null,
   "metadata": {},
   "outputs": [],
   "source": []
  },
  {
   "cell_type": "markdown",
   "metadata": {},
   "source": [
    "#### Try your function with any input parameterss of your choice."
   ]
  },
  {
   "cell_type": "code",
   "execution_count": null,
   "metadata": {},
   "outputs": [],
   "source": []
  },
  {
   "cell_type": "markdown",
   "metadata": {},
   "source": [
    "#### Calculate r2 score"
   ]
  },
  {
   "cell_type": "code",
   "execution_count": 30,
   "metadata": {},
   "outputs": [
    {
     "data": {
      "text/plain": [
       "0.9979440326775005"
      ]
     },
     "execution_count": 30,
     "metadata": {},
     "output_type": "execute_result"
    }
   ],
   "source": [
    "from sklearn.metrics import r2_score\n",
    "r2_score(y_i,y_pred)"
   ]
  },
  {
   "cell_type": "code",
   "execution_count": 31,
   "metadata": {},
   "outputs": [
    {
     "data": {
      "text/plain": [
       "4157"
      ]
     },
     "execution_count": 31,
     "metadata": {},
     "output_type": "execute_result"
    }
   ],
   "source": [
    "len(theta0_all)"
   ]
  },
  {
   "cell_type": "code",
   "execution_count": 32,
   "metadata": {},
   "outputs": [
    {
     "data": {
      "text/plain": [
       "4157"
      ]
     },
     "execution_count": 32,
     "metadata": {},
     "output_type": "execute_result"
    }
   ],
   "source": [
    "len(cost_all)"
   ]
  },
  {
   "cell_type": "markdown",
   "metadata": {},
   "source": [
    "#### Plot loss vs. epochs"
   ]
  },
  {
   "cell_type": "code",
   "execution_count": 33,
   "metadata": {},
   "outputs": [
    {
     "data": {
      "text/plain": [
       "[<matplotlib.lines.Line2D at 0x242d2ce1ac8>]"
      ]
     },
     "execution_count": 33,
     "metadata": {},
     "output_type": "execute_result"
    },
    {
     "data": {
      "image/png": "[encoded data removed]",
      "text/plain": [
       "<Figure size 432x288 with 1 Axes>"
      ]
     },
     "metadata": {
      "needs_background": "light"
     },
     "output_type": "display_data"
    }
   ],
   "source": [
    "plt.plot(theta0_all,cost_all)\n"
   ]
  },
  {
   "cell_type": "code",
   "execution_count": null,
   "metadata": {},
   "outputs": [],
   "source": []
  },
  {
   "cell_type": "code",
   "execution_count": null,
   "metadata": {
    "scrolled": false
   },
   "outputs": [],
   "source": []
  },
  {
   "cell_type": "markdown",
   "metadata": {},
   "source": [
    "#### Plot Theta_0 vs. loss and Theta_1 vs. loss"
   ]
  },
  {
   "cell_type": "code",
   "execution_count": 34,
   "metadata": {},
   "outputs": [
    {
     "data": {
      "text/plain": [
       "[<matplotlib.lines.Line2D at 0x242d2fecc88>]"
      ]
     },
     "execution_count": 34,
     "metadata": {},
     "output_type": "execute_result"
    },
    {
     "data": {
      "image/png": "[encoded data removed]",
      "text/plain": [
       "<Figure size 432x288 with 1 Axes>"
      ]
     },
     "metadata": {
      "needs_background": "light"
     },
     "output_type": "display_data"
    }
   ],
   "source": [
    "plt.plot(cost_all,theta1_all)"
   ]
  },
  {
   "cell_type": "code",
   "execution_count": null,
   "metadata": {},
   "outputs": [],
   "source": []
  },
  {
   "cell_type": "code",
   "execution_count": null,
   "metadata": {},
   "outputs": [],
   "source": []
  },
  {
   "cell_type": "markdown",
   "metadata": {},
   "source": [
    "#### Plot all regression lines till converge"
   ]
  },
  {
   "cell_type": "code",
   "execution_count": null,
   "metadata": {},
   "outputs": [],
   "source": []
  },
  {
   "cell_type": "code",
   "execution_count": null,
   "metadata": {},
   "outputs": [],
   "source": []
  },
  {
   "cell_type": "markdown",
   "metadata": {},
   "source": [
    "#### Plot the best regression line"
   ]
  },
  {
   "cell_type": "code",
   "execution_count": null,
   "metadata": {},
   "outputs": [],
   "source": []
  },
  {
   "cell_type": "code",
   "execution_count": null,
   "metadata": {},
   "outputs": [],
   "source": []
  },
  {
   "cell_type": "markdown",
   "metadata": {},
   "source": [
    "#### Try different learning rate and number of iterations then plot loss vs. epochs, loss vs. Theat_0 and Theta_1\n",
    "#### all regression lines till converge, and the best regression line\n",
    "#### and see the difference in output."
   ]
  },
  {
   "cell_type": "code",
   "execution_count": null,
   "metadata": {},
   "outputs": [],
   "source": []
  },
  {
   "cell_type": "code",
   "execution_count": null,
   "metadata": {},
   "outputs": [],
   "source": []
  },
  {
   "cell_type": "code",
   "execution_count": null,
   "metadata": {},
   "outputs": [],
   "source": []
  },
  {
   "cell_type": "code",
   "execution_count": null,
   "metadata": {},
   "outputs": [],
   "source": []
  },
  {
   "cell_type": "code",
   "execution_count": null,
   "metadata": {},
   "outputs": [],
   "source": []
  },
  {
   "cell_type": "code",
   "execution_count": null,
   "metadata": {},
   "outputs": [],
   "source": []
  },
  {
   "cell_type": "code",
   "execution_count": null,
   "metadata": {},
   "outputs": [],
   "source": []
  },
  {
   "cell_type": "code",
   "execution_count": null,
   "metadata": {},
   "outputs": [],
   "source": []
  },
  {
   "cell_type": "code",
   "execution_count": null,
   "metadata": {},
   "outputs": [],
   "source": []
  },
  {
   "cell_type": "code",
   "execution_count": null,
   "metadata": {},
   "outputs": [],
   "source": []
  },
  {
   "cell_type": "code",
   "execution_count": null,
   "metadata": {},
   "outputs": [],
   "source": []
  },
  {
   "cell_type": "code",
   "execution_count": null,
   "metadata": {},
   "outputs": [],
   "source": []
  },
  {
   "cell_type": "markdown",
   "metadata": {},
   "source": []
  },
  {
   "cell_type": "markdown",
   "metadata": {},
   "source": [
    "## Stochastic GD"
   ]
  },
  {
   "cell_type": "markdown",
   "metadata": {},
   "source": [
    "#### Update the implementation of the Batch GD to beStochastic and rpeat the above plots and evaluations\n",
    "#### You can try different learning rate and see its effect.\n",
    "#### Compare to Batch and Mini-Batch GD\n",
    "### Note: Try once without shuffling the data and once with shuffle and see the effect on the output."
   ]
  },
  {
   "cell_type": "code",
   "execution_count": 43,
   "metadata": {},
   "outputs": [
    {
     "name": "stdout",
     "output_type": "stream",
     "text": [
      "50\n"
     ]
    }
   ],
   "source": [
    "import matplotlib.pyplot as plt\n",
    "import random\n",
    "a= -2\n",
    "b =1\n",
    "x_i =np.linspace(0, 20)\n",
    "random.shuffle(x_i)\n",
    "y_i = a * x_i + b \n",
    "print(len(x_i))"
   ]
  },
  {
   "cell_type": "code",
   "execution_count": 44,
   "metadata": {},
   "outputs": [
    {
     "data": {
      "text/plain": [
       "array([-12.06122449, -21.85714286, -14.51020408, -17.7755102 ,\n",
       "       -19.40816327, -32.46938776, -30.83673469,  -4.71428571,\n",
       "         1.        , -15.32653061, -27.57142857, -28.3877551 ,\n",
       "        -2.26530612, -21.04081633, -13.69387755, -11.24489796,\n",
       "       -10.42857143, -12.87755102,  -3.89795918, -25.93877551,\n",
       "       -36.55102041,  -5.53061224, -16.95918367,   0.18367347,\n",
       "       -30.02040816, -18.59183673, -35.73469388,  -6.34693878,\n",
       "        -3.08163265,  -7.97959184, -37.36734694, -23.48979592,\n",
       "       -33.28571429, -39.        ,  -7.16326531, -34.10204082,\n",
       "       -25.12244898, -38.18367347, -31.65306122, -29.20408163,\n",
       "       -16.14285714,  -0.63265306, -22.67346939,  -1.44897959,\n",
       "       -24.30612245,  -8.79591837,  -9.6122449 , -34.91836735,\n",
       "       -26.75510204, -20.2244898 ])"
      ]
     },
     "execution_count": 44,
     "metadata": {},
     "output_type": "execute_result"
    }
   ],
   "source": [
    "y_i"
   ]
  },
  {
   "cell_type": "code",
   "execution_count": 45,
   "metadata": {},
   "outputs": [
    {
     "data": {
      "image/png": "[encoded data removed]",
      "text/plain": [
       "<Figure size 432x288 with 1 Axes>"
      ]
     },
     "metadata": {
      "needs_background": "light"
     },
     "output_type": "display_data"
    },
    {
     "name": "stdout",
     "output_type": "stream",
     "text": [
      "-0.03705346281626052\n",
      "-1.9206796386342324\n"
     ]
    }
   ],
   "source": [
    "#Full implemintion Batch\n",
    "import numpy as np\n",
    "import matplotlib.pyplot as plt\n",
    "cost_all=[0]\n",
    "theta0_all=[]\n",
    "theta1_all=[]\n",
    "def cost(theta0,theta1,x_points,y_points):\n",
    "    \n",
    "    m=len(x_points)\n",
    "    h=(theta0+x_points*theta1)\n",
    "    \n",
    "    error=  sum((h-y_points)**2)\n",
    "    return  error/(2*m ) \n",
    "    \n",
    "def difft0(theta0,theta1,x_points,y_points):\n",
    "    m=len(x_points)\n",
    "    error= sum((theta0+x_points*theta1)-y_points)\n",
    "    return  error/m  \n",
    "\n",
    "def difft1(theta0,theta1,x_points,y_points):\n",
    "    error = 0\n",
    "    m=len(x_points)\n",
    "    error=  sum(((theta0+x_points*theta1)-y_points) * x_points)\n",
    "    return  error/m  \n",
    "def fit(x_points,y_points,initial_value,alpha,numOfItr):\n",
    "    theta0=theta1=initial_value\n",
    "    theta0_all.append(theta0)\n",
    "    theta1_all.append(theta1)\n",
    "    for i in range(numOfItr):\n",
    "        for j in range(0,len(x_points)):\n",
    "               cost_all.append( cost(theta0,theta1,x_points[j:j+1],y_points[j:j+1]))\n",
    "               dt0 = difft0(theta0,theta1,x_points[j:j+1],y_points[j:j+1])\n",
    "               dt1 = difft1(theta0,theta1,x_points[j:j+1],y_points[j:j+1])\n",
    "               theta0 = theta0 - alpha*dt0\n",
    "               theta1 = theta1 - alpha*dt1\n",
    "               theta0_all.append(theta0)\n",
    "               theta1_all.append(theta1)\n",
    "    return theta0,theta1\n",
    "\n",
    "\n",
    "\n",
    "\n",
    "alpha = 0.00001\n",
    "theta0 , theta1 =fit(x_i,y_i,0.1,alpha,100)\n",
    "plt.scatter(x_i, y_i)\n",
    "y_pred=[]\n",
    "\n",
    "y_pred=theta0+theta1*x_i\n",
    "\n",
    "\n",
    "plt.plot(x_i,y_pred )\n",
    "\n",
    "plt.show()\n",
    "\n",
    "print(theta0)\n",
    "print(theta1)"
   ]
  },
  {
   "cell_type": "code",
   "execution_count": 46,
   "metadata": {},
   "outputs": [
    {
     "data": {
      "text/plain": [
       "0.9979985884949953"
      ]
     },
     "execution_count": 46,
     "metadata": {},
     "output_type": "execute_result"
    }
   ],
   "source": [
    "from sklearn.metrics import r2_score\n",
    "r2_score(y_i,y_pred)"
   ]
  },
  {
   "cell_type": "code",
   "execution_count": 47,
   "metadata": {},
   "outputs": [
    {
     "data": {
      "text/plain": [
       "[<matplotlib.lines.Line2D at 0x2492baa9fc8>]"
      ]
     },
     "execution_count": 47,
     "metadata": {},
     "output_type": "execute_result"
    },
    {
     "data": {
      "image/png": "[encoded data removed]",
      "text/plain": [
       "<Figure size 432x288 with 1 Axes>"
      ]
     },
     "metadata": {
      "needs_background": "light"
     },
     "output_type": "display_data"
    }
   ],
   "source": [
    "plt.plot(theta0_all,cost_all)"
   ]
  },
  {
   "cell_type": "code",
   "execution_count": 48,
   "metadata": {},
   "outputs": [
    {
     "data": {
      "text/plain": [
       "[<matplotlib.lines.Line2D at 0x249294d2748>]"
      ]
     },
     "execution_count": 48,
     "metadata": {},
     "output_type": "execute_result"
    },
    {
     "data": {
      "image/png": "[encoded data removed]",
      "text/plain": [
       "<Figure size 432x288 with 1 Axes>"
      ]
     },
     "metadata": {
      "needs_background": "light"
     },
     "output_type": "display_data"
    }
   ],
   "source": [
    "plt.plot(theta0_all,cost_all)"
   ]
  },
  {
   "cell_type": "code",
   "execution_count": null,
   "metadata": {},
   "outputs": [],
   "source": []
  },
  {
   "cell_type": "code",
   "execution_count": null,
   "metadata": {},
   "outputs": [],
   "source": []
  },
  {
   "cell_type": "code",
   "execution_count": null,
   "metadata": {},
   "outputs": [],
   "source": []
  },
  {
   "cell_type": "code",
   "execution_count": null,
   "metadata": {},
   "outputs": [],
   "source": []
  },
  {
   "cell_type": "code",
   "execution_count": null,
   "metadata": {},
   "outputs": [],
   "source": []
  },
  {
   "cell_type": "code",
   "execution_count": null,
   "metadata": {},
   "outputs": [],
   "source": []
  },
  {
   "cell_type": "code",
   "execution_count": null,
   "metadata": {},
   "outputs": [],
   "source": []
  },
  {
   "cell_type": "code",
   "execution_count": null,
   "metadata": {},
   "outputs": [],
   "source": []
  },
  {
   "cell_type": "code",
   "execution_count": null,
   "metadata": {},
   "outputs": [],
   "source": []
  },
  {
   "cell_type": "markdown",
   "metadata": {},
   "source": []
  },
  {
   "cell_type": "markdown",
   "metadata": {},
   "source": [
    "#### Update the implementation of the Batch GD to be Mini-Batch and repeat the above plots and evaluations\n",
    "#### Change batch size and see the effect\n",
    "### Note: Try once without shuffling the data and once with shuffle and see the effect on the output."
   ]
  },
  {
   "cell_type": "code",
   "execution_count": null,
   "metadata": {},
   "outputs": [],
   "source": []
  },
  {
   "cell_type": "code",
   "execution_count": 49,
   "metadata": {},
   "outputs": [
    {
     "data": {
      "image/png": "[encoded data removed]",
      "text/plain": [
       "<Figure size 432x288 with 1 Axes>"
      ]
     },
     "metadata": {
      "needs_background": "light"
     },
     "output_type": "display_data"
    },
    {
     "name": "stdout",
     "output_type": "stream",
     "text": [
      "-0.04512561072455851\n",
      "-1.9124207785348892\n"
     ]
    }
   ],
   "source": [
    "#Full implemintion Batch\n",
    "import numpy as np\n",
    "import matplotlib.pyplot as plt\n",
    "cost_all=[0]\n",
    "theta0_all=[]\n",
    "theta1_all=[]\n",
    "def cost(theta0,theta1,x_points,y_points):\n",
    "    \n",
    "    m=len(x_points)\n",
    "    h=(theta0+x_points*theta1)\n",
    "    \n",
    "    error=  sum((h-y_points)**2)\n",
    "    return  error/(2*m ) \n",
    "    \n",
    "def difft0(theta0,theta1,x_points,y_points):\n",
    "    m=len(x_points)\n",
    "    error= sum((theta0+x_points*theta1)-y_points)\n",
    "    return  error/m  \n",
    "\n",
    "def difft1(theta0,theta1,x_points,y_points):\n",
    "    error = 0\n",
    "    m=len(x_points)\n",
    "    error=  sum(((theta0+x_points*theta1)-y_points) * x_points)\n",
    "    return  error/m  \n",
    "def fit(x_points,y_points,initial_value,alpha,batch_num,numOfItr):\n",
    "    theta0=theta1=initial_value\n",
    "    theta0_all.append(theta0)\n",
    "    theta1_all.append(theta1)\n",
    "    mini=len(x_points)//batch_num\n",
    "    remender=len(y_points)%batch_num\n",
    "    for i in range(numOfItr):\n",
    "        for j in range(0,len(x_points),mini):\n",
    "            if(j+mini+remender !=len(y_points)):\n",
    "               cost_all.append( cost(theta0,theta1,x_points[j:j+mini],y_points[j:j+mini]))\n",
    "               dt0 = difft0(theta0,theta1,x_points[j:j+mini],y_points[j:j+mini])\n",
    "               dt1 = difft1(theta0,theta1,x_points[j:j+mini],y_points[j:j+mini])\n",
    "               theta0 = theta0 - alpha*dt0\n",
    "               theta1 = theta1 - alpha*dt1\n",
    "               theta0_all.append(theta0)\n",
    "               theta1_all.append(theta1)\n",
    "               \n",
    "            else:\n",
    "               cost_all.append( cost(theta0,theta1,x_points[j:len(x_points)],y_points[j:len(x_points)]))\n",
    "               dt0 = difft0(theta0,theta1,x_points[j:len(x_points)],y_points[j:len(x_points)])\n",
    "               dt1 = difft1(theta0,theta1,x_points[j:len(x_points)],y_points[j:len(x_points)])\n",
    "               theta0 = theta0 - alpha*dt0\n",
    "               theta1 = theta1 - alpha*dt1\n",
    "               theta0_all.append(theta0)\n",
    "               theta1_all.append(theta1)\n",
    "              \n",
    "        \n",
    "    return theta0,theta1\n",
    "\n",
    "\n",
    "\n",
    "\n",
    "alpha = 0.00001\n",
    "batch_num=3\n",
    "theta0 , theta1 =fit(x_i,y_i,0.1,alpha,batch_num,1000)\n",
    "plt.scatter(x_i, y_i)\n",
    "y_pred=[]\n",
    "\n",
    "y_pred=theta0+theta1*x_i\n",
    "\n",
    "\n",
    "plt.plot(x_i,y_pred )\n",
    "\n",
    "plt.show()\n",
    "\n",
    "print(theta0)\n",
    "print(theta1)"
   ]
  },
  {
   "cell_type": "code",
   "execution_count": 50,
   "metadata": {},
   "outputs": [
    {
     "data": {
      "text/plain": [
       "0.9978758499694997"
      ]
     },
     "execution_count": 50,
     "metadata": {},
     "output_type": "execute_result"
    }
   ],
   "source": [
    "from sklearn.metrics import r2_score\n",
    "r2_score(y_i,y_pred)"
   ]
  },
  {
   "cell_type": "code",
   "execution_count": 51,
   "metadata": {},
   "outputs": [
    {
     "data": {
      "text/plain": [
       "[<matplotlib.lines.Line2D at 0x2492bc20e48>]"
      ]
     },
     "execution_count": 51,
     "metadata": {},
     "output_type": "execute_result"
    },
    {
     "data": {
      "image/png": "[encoded data removed]",
      "text/plain": [
       "<Figure size 432x288 with 1 Axes>"
      ]
     },
     "metadata": {
      "needs_background": "light"
     },
     "output_type": "display_data"
    }
   ],
   "source": [
    "plt.plot(theta0_all,cost_all)"
   ]
  },
  {
   "cell_type": "code",
   "execution_count": 52,
   "metadata": {},
   "outputs": [
    {
     "data": {
      "text/plain": [
       "[<matplotlib.lines.Line2D at 0x2492e034588>]"
      ]
     },
     "execution_count": 52,
     "metadata": {},
     "output_type": "execute_result"
    },
    {
     "data": {
      "image/png": "[encoded data removed]",
      "text/plain": [
       "<Figure size 432x288 with 1 Axes>"
      ]
     },
     "metadata": {
      "needs_background": "light"
     },
     "output_type": "display_data"
    }
   ],
   "source": [
    "plt.plot(theta1_all,cost_all)"
   ]
  },
  {
   "cell_type": "code",
   "execution_count": 54,
   "metadata": {},
   "outputs": [
    {
     "data": {
      "text/plain": [
       "[<matplotlib.lines.Line2D at 0x2492f0de708>]"
      ]
     },
     "execution_count": 54,
     "metadata": {},
     "output_type": "execute_result"
    },
    {
     "data": {
      "image/png": "[encoded data removed]",
      "text/plain": [
       "<Figure size 432x288 with 1 Axes>"
      ]
     },
     "metadata": {
      "needs_background": "light"
     },
     "output_type": "display_data"
    }
   ],
   "source": [
    "plt.plot(theta1_all,cost_all)"
   ]
  },
  {
   "cell_type": "code",
   "execution_count": null,
   "metadata": {},
   "outputs": [],
   "source": []
  },
  {
   "cell_type": "code",
   "execution_count": null,
   "metadata": {},
   "outputs": [],
   "source": []
  },
  {
   "cell_type": "code",
   "execution_count": null,
   "metadata": {},
   "outputs": [],
   "source": []
  },
  {
   "cell_type": "code",
   "execution_count": null,
   "metadata": {},
   "outputs": [],
   "source": []
  },
  {
   "cell_type": "code",
   "execution_count": null,
   "metadata": {},
   "outputs": [],
   "source": []
  },
  {
   "cell_type": "code",
   "execution_count": null,
   "metadata": {},
   "outputs": [],
   "source": []
  },
  {
   "cell_type": "code",
   "execution_count": null,
   "metadata": {},
   "outputs": [],
   "source": []
  },
  {
   "cell_type": "code",
   "execution_count": null,
   "metadata": {},
   "outputs": [],
   "source": []
  },
  {
   "cell_type": "code",
   "execution_count": null,
   "metadata": {},
   "outputs": [],
   "source": []
  },
  {
   "cell_type": "code",
   "execution_count": null,
   "metadata": {},
   "outputs": [],
   "source": []
  }
 ],
 "metadata": {
  "kernelspec": {
   "display_name": "Python 3",
   "language": "python",
   "name": "python3"
  },
  "language_info": {
   "codemirror_mode": {
    "name": "ipython",
    "version": 3
   },
   "file_extension": ".py",
   "mimetype": "text/x-python",
   "name": "python",
   "nbconvert_exporter": "python",
   "pygments_lexer": "ipython3",
   "version": "3.7.6"
  }
 },
 "nbformat": 4,
 "nbformat_minor": 4
}
