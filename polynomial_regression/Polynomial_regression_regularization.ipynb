{
  "nbformat": 4,
  "nbformat_minor": 0,
  "metadata": {
    "kernelspec": {
      "display_name": "Python 3",
      "language": "python",
      "name": "python3"
    },
    "language_info": {
      "codemirror_mode": {
        "name": "ipython",
        "version": 3
      },
      "file_extension": ".py",
      "mimetype": "text/x-python",
      "name": "python",
      "nbconvert_exporter": "python",
      "pygments_lexer": "ipython3",
      "version": "3.7.6"
    },
    "colab": {
      "name": "Copy of Polynomial_regression_regularization.ipynb",
      "provenance": [],
      "collapsed_sections": []
    }
  },
  "cells": [
    {
      "cell_type": "markdown",
      "metadata": {
        "id": "eyjewtSBMA95"
      },
      "source": [
        "# Testing and regularization"
      ]
    },
    {
      "cell_type": "code",
      "metadata": {
        "id": "y_RXtj1eMCb3",
        "outputId": "458749b2-d823-4c3e-d77b-416fc5642c55",
        "colab": {
          "base_uri": "https://localhost:8080/"
        }
      },
      "source": [
        "!git clone https://github.com/s7s/machine_learning_1.git\n",
        "%cd  machine_learning_1/polynomial_regression"
      ],
      "execution_count": 1,
      "outputs": [
        {
          "output_type": "stream",
          "name": "stdout",
          "text": [
            "Cloning into 'machine_learning_1'...\n",
            "remote: Enumerating objects: 186, done.\u001b[K\n",
            "remote: Counting objects: 100% (186/186), done.\u001b[K\n",
            "remote: Compressing objects: 100% (134/134), done.\u001b[K\n",
            "remote: Total 186 (delta 85), reused 150 (delta 49), pack-reused 0\u001b[K\n",
            "Receiving objects: 100% (186/186), 34.12 MiB | 19.06 MiB/s, done.\n",
            "Resolving deltas: 100% (85/85), done.\n",
            "/content/machine_learning_1/polynomial_regression\n"
          ]
        }
      ]
    },
    {
      "cell_type": "code",
      "metadata": {
        "id": "YpX56PtFMA-A"
      },
      "source": [
        "import pandas as pd\n",
        "import numpy as np\n",
        "import random\n",
        "import matplotlib.pyplot as plt\n",
        "random.seed(0)"
      ],
      "execution_count": 2,
      "outputs": []
    },
    {
      "cell_type": "markdown",
      "metadata": {
        "id": "WBD0ZY2wMA-B"
      },
      "source": [
        "## Defining our dataset"
      ]
    },
    {
      "cell_type": "code",
      "metadata": {
        "id": "4sDgbZNRMA-C",
        "outputId": "99a59684-c350-4d06-83f1-8e5e53b51841",
        "colab": {
          "base_uri": "https://localhost:8080/",
          "height": 269
        }
      },
      "source": [
        "# Our original polynomial is -x^2+x+15\n",
        "coefs = [15,1,-1]\n",
        "\n",
        "def polynomial(coefs, x):\n",
        "    n = len(coefs)\n",
        "    return sum([coefs[i]*x**i for i in range(n)])\n",
        "\n",
        "def draw_polynomial(coefs):\n",
        "    n = len(coefs)\n",
        "    x = np.linspace(-5, 5, 1000)\n",
        "    plt.ylim(-20,20)\n",
        "    plt.plot(x, sum([coefs[i]*x**i for i in range(n)]), linestyle='-', color='black')\n",
        "\n",
        "draw_polynomial(coefs)"
      ],
      "execution_count": 3,
      "outputs": [
        {
          "output_type": "display_data",
          "data": {
            "text/plain": [
              "<Figure size 432x288 with 1 Axes>"
            ],
            "image/png": "[encoded data removed]"
          },
          "metadata": {
            "needs_background": "light"
          }
        }
      ]
    },
    {
      "cell_type": "code",
      "metadata": {
        "id": "WvGqHRFCMA-E"
      },
      "source": [
        "X = []\n",
        "Y = []\n",
        "for i in range(40):\n",
        "    x = random.uniform(-5,5)\n",
        "    y = polynomial(coefs, x) + random.gauss(0,2)\n",
        "    X.append(x)\n",
        "    Y.append(y)\n",
        "X=np.array(X)\n",
        "Y=np.array(Y)"
      ],
      "execution_count": 5,
      "outputs": []
    },
    {
      "cell_type": "code",
      "metadata": {
        "id": "ETQxgGiFMA-E",
        "outputId": "c7c2579c-54a6-4f58-db20-ca49375cba69",
        "colab": {
          "base_uri": "https://localhost:8080/",
          "height": 284
        }
      },
      "source": [
        "plt.scatter(X, Y)\n",
        "#draw_polynomial(coefs)"
      ],
      "execution_count": 6,
      "outputs": [
        {
          "output_type": "execute_result",
          "data": {
            "text/plain": [
              "<matplotlib.collections.PathCollection at 0x7f7f57215410>"
            ]
          },
          "metadata": {},
          "execution_count": 6
        },
        {
          "output_type": "display_data",
          "data": {
            "text/plain": [
              "<Figure size 432x288 with 1 Axes>"
            ],
            "image/png": "[encoded data removed]"
          },
          "metadata": {
            "needs_background": "light"
          }
        }
      ]
    },
    {
      "cell_type": "markdown",
      "metadata": {
        "id": "wLUfmV9iMA-F"
      },
      "source": [
        "## Training a polynomial regression model"
      ]
    },
    {
      "cell_type": "code",
      "metadata": {
        "id": "xsNmJ6hoGPjb",
        "outputId": "8468f18d-5747-489c-d5dd-2c9eb6827ff8",
        "colab": {
          "base_uri": "https://localhost:8080/"
        }
      },
      "source": [
        "for datasample in zip(X,Y):\n",
        "    print(datasample)\n",
        "    "
      ],
      "execution_count": 7,
      "outputs": [
        {
          "output_type": "stream",
          "name": "stdout",
          "text": [
            "(3.98173121357879, 5.336382904254359)\n",
            "(-1.087039497653751, 11.572117170027912)\n",
            "(2.0528339985440622, 12.252654244338753)\n",
            "(3.4948596518636705, 9.887928796750838)\n",
            "(3.950389674266752, -0.7886240883010993)\n",
            "(0.796950107456059, 12.545900209788488)\n",
            "(-0.49436893368844803, 10.687314649720424)\n",
            "(4.169412179474561, -3.8654142672382648)\n",
            "(2.9332508413022413, 11.7234803760056)\n",
            "(-0.13555798030833177, 16.20915681152103)\n",
            "(1.301473404114728, 15.447143194554002)\n",
            "(2.3148922079084775, 10.722169638004173)\n",
            "(-3.82865706791482, -2.83062457729632)\n",
            "(-1.6746385078034454, 14.018163224732104)\n",
            "(3.1591309653365958, 9.086752970716235)\n",
            "(1.976706401912388, 13.73415171456724)\n",
            "(-4.547659321343876, -14.153759570475154)\n",
            "(0.34197968260723943, 13.260293417216214)\n",
            "(1.8058913256225653, 16.34431146793603)\n",
            "(1.063384177542189, 15.40667108018044)\n",
            "(0.7595294803154076, 13.691649234574514)\n",
            "(4.805166506472688, -2.0699652704115747)\n",
            "(-4.636079623885142, -6.081231029377605)\n",
            "(-3.150280586025617, 2.6159785428026052)\n",
            "(-3.761048355755683, -2.0257464665800775)\n",
            "(4.369691586445807, 3.75824996867226)\n",
            "(-4.772174243313416, -13.37192104792488)\n",
            "(-2.4008011020716804, 7.252233839196305)\n",
            "(-2.7917072868368265, 3.294098873135007)\n",
            "(-3.1968209847031215, 0.10222532532209683)\n",
            "(0.03636505209887275, 15.929486609892104)\n",
            "(4.8823514872250104, -3.7290684921514807)\n",
            "(-3.00644209532937, 0.9099676964729211)\n",
            "(3.3832656519341633, 9.454826896492978)\n",
            "(4.184820619953314, 3.1214742795446044)\n",
            "(4.665489030431832, 0.5126784976759358)\n",
            "(-4.419490561735014, -10.679912253877886)\n",
            "(-1.5768745892141602, 7.479890092814051)\n",
            "(-2.4931266071488833, 4.517323882315262)\n",
            "(-3.251805155485589, -0.06097594151793739)\n"
          ]
        }
      ]
    },
    {
      "cell_type": "markdown",
      "metadata": {
        "id": "Pze2ZphQMA-G"
      },
      "source": [
        "### Adding columns to our dataset corresponding to $x^2, x^3, \\ldots, x^{200}$"
      ]
    },
    {
      "cell_type": "code",
      "metadata": {
        "id": "c2XZgASOGfVv"
      },
      "source": [
        "from sklearn.preprocessing import PolynomialFeatures\n",
        "def addPoly(X,polyDegree):\n",
        "    ## TODO ##\n",
        "    #use sklearn (PolynomialFeatures method)\n",
        "    poly = PolynomialFeatures(polyDegree,include_bias=False)\n",
        "    X=X.reshape(-1, 1)\n",
        "    X=poly.fit_transform(X)\n",
        "\n",
        "    return X\n",
        "X_poly=addPoly(X,200)"
      ],
      "execution_count": 20,
      "outputs": []
    },
    {
      "cell_type": "code",
      "metadata": {
        "id": "kKXdyM7fGzLC",
        "outputId": "32255fef-19bf-4220-99da-ca7ddd7fe95c",
        "colab": {
          "base_uri": "https://localhost:8080/"
        }
      },
      "source": [
        "print(X_poly.shape)\n",
        "print(X_poly[0,:])"
      ],
      "execution_count": 21,
      "outputs": [
        {
          "output_type": "stream",
          "name": "stdout",
          "text": [
            "(40, 200)\n",
            "[3.98173121e+000 1.58541835e+001 6.31270971e+001 2.51355133e+002\n",
            " 1.00082858e+003 3.98503039e+003 1.58673199e+004 6.31794029e+004\n",
            " 2.51563401e+005 1.00165784e+006 3.98833231e+006 1.58804672e+007\n",
            " 6.32317521e+007 2.51771841e+008 1.00248780e+009 3.99163695e+009\n",
            " 1.58936255e+010 6.32841446e+010 2.51980454e+011 1.00331844e+012\n",
            " 3.99494434e+012 1.59067946e+013 6.33365805e+013 2.52189240e+014\n",
            " 1.00414977e+015 3.99825447e+015 1.59199746e+016 6.33890599e+016\n",
            " 2.52398198e+017 1.00498178e+018 4.00156734e+018 1.59331656e+019\n",
            " 6.34415827e+019 2.52607330e+020 1.00581449e+021 4.00488295e+021\n",
            " 1.59463675e+022 6.34941491e+022 2.52816635e+023 1.00664789e+024\n",
            " 4.00820132e+024 1.59595803e+025 6.35467590e+025 2.53026114e+026\n",
            " 1.00748198e+027 4.01152243e+027 1.59728041e+028 6.35994125e+028\n",
            " 2.53235766e+029 1.00831675e+030 4.01484629e+030 1.59860388e+031\n",
            " 6.36521097e+031 2.53445592e+032 1.00915222e+033 4.01817291e+033\n",
            " 1.59992845e+034 6.37048505e+034 2.53655592e+035 1.00998839e+036\n",
            " 4.02150229e+036 1.60125412e+037 6.37576350e+037 2.53865765e+038\n",
            " 1.01082524e+039 4.02483442e+039 1.60258088e+040 6.38104633e+040\n",
            " 2.54076113e+041 1.01166279e+042 4.02816931e+042 1.60390875e+043\n",
            " 6.38633353e+043 2.54286635e+044 1.01250103e+045 4.03150697e+045\n",
            " 1.60523771e+046 6.39162511e+046 2.54497332e+047 1.01333997e+048\n",
            " 4.03484739e+048 1.60656778e+049 6.39692108e+049 2.54708203e+050\n",
            " 1.01417960e+051 4.03819058e+051 1.60789895e+052 6.40222143e+052\n",
            " 2.54919249e+053 1.01501993e+054 4.04153654e+054 1.60923122e+055\n",
            " 6.40752618e+055 2.55130470e+056 1.01586096e+057 4.04488528e+057\n",
            " 1.61056460e+058 6.41283532e+058 2.55341866e+059 1.01670268e+060\n",
            " 4.04823678e+060 1.61189908e+061 6.41814886e+061 2.55553437e+062\n",
            " 1.01754510e+063 4.05159107e+063 1.61323466e+064 6.42346681e+064\n",
            " 2.55765183e+065 1.01838821e+066 4.05494813e+066 1.61457135e+067\n",
            " 6.42878916e+067 2.55977105e+068 1.01923203e+069 4.05830798e+069\n",
            " 1.61590915e+070 6.43411592e+070 2.56189202e+071 1.02007654e+072\n",
            " 4.06167061e+072 1.61724806e+073 6.43944709e+073 2.56401475e+074\n",
            " 1.02092176e+075 4.06503602e+075 1.61858808e+076 6.44478268e+076\n",
            " 2.56613924e+077 1.02176767e+078 4.06840423e+078 1.61992921e+079\n",
            " 6.45012270e+079 2.56826549e+080 1.02261429e+081 4.07177522e+081\n",
            " 1.62127145e+082 6.45546713e+082 2.57039350e+083 1.02346160e+084\n",
            " 4.07514901e+084 1.62261480e+085 6.46081600e+085 2.57252327e+086\n",
            " 1.02430962e+087 4.07852559e+087 1.62395927e+088 6.46616930e+088\n",
            " 2.57465481e+089 1.02515834e+090 4.08190497e+090 1.62530484e+091\n",
            " 6.47152703e+091 2.57678812e+092 1.02600777e+093 4.08528715e+093\n",
            " 1.62665154e+094 6.47688920e+094 2.57892319e+095 1.02685790e+096\n",
            " 4.08867214e+096 1.62799935e+097 6.48225582e+097 2.58106003e+098\n",
            " 1.02770873e+099 4.09205993e+099 1.62934827e+100 6.48762688e+100\n",
            " 2.58319864e+101 1.02856027e+102 4.09545052e+102 1.63069832e+103\n",
            " 6.49300239e+103 2.58533903e+104 1.02941251e+105 4.09884393e+105\n",
            " 1.63204948e+106 6.49838236e+106 2.58748119e+107 1.03026546e+108\n",
            " 4.10224014e+108 1.63340176e+109 6.50376678e+109 2.58962512e+110\n",
            " 1.03111912e+111 4.10563917e+111 1.63475516e+112 6.50915567e+112\n",
            " 2.59177083e+113 1.03197348e+114 4.10904102e+114 1.63610969e+115\n",
            " 6.51454902e+115 2.59391832e+116 1.03282855e+117 4.11244569e+117\n",
            " 1.63746534e+118 6.51994684e+118 2.59606758e+119 1.03368433e+120]\n"
          ]
        }
      ]
    },
    {
      "cell_type": "markdown",
      "metadata": {
        "id": "S8uYLISVMA-H"
      },
      "source": [
        "## Splitting data into training and testing"
      ]
    },
    {
      "cell_type": "code",
      "metadata": {
        "id": "fVnfiOyqMNLg"
      },
      "source": [
        "from sklearn.model_selection import train_test_split\n",
        "## TODO ##\n",
        "# use sklearn (train_test_split) to split data to 80% training 20% testing\n",
        "X_train, X_test, y_train, y_test = train_test_split(X_poly,Y,test_size=.2)"
      ],
      "execution_count": 23,
      "outputs": []
    },
    {
      "cell_type": "code",
      "metadata": {
        "id": "WmHYknzXMA-I"
      },
      "source": [
        "from sklearn.metrics import mean_squared_error\n",
        "def display_results(model):\n",
        "    coefs = [model.intercept_]\n",
        "    coefs += list(model.coef_)\n",
        "    ytrain_predict=model.predict(X_train)\n",
        "    ytest_predict=model.predict(X_test)\n",
        "    train_error=np.sqrt(mean_squared_error(y_train,ytrain_predict))\n",
        "    test_error=np.sqrt(mean_squared_error(y_test,ytest_predict))\n",
        "    print(\"Training error (rmse):\", train_error)\n",
        "    print(\"Testing error (rmse):\", test_error)\n",
        "    plt.scatter(X_train[:,0], y_train, marker='o')\n",
        "    plt.scatter(X_test[:,0], y_test, marker='^')\n",
        "    draw_polynomial(coefs)\n",
        "    plt.show()\n",
        "    print(\"Polynomial coefficients\")\n",
        "    print(coefs)"
      ],
      "execution_count": 24,
      "outputs": []
    },
    {
      "cell_type": "markdown",
      "metadata": {
        "id": "G9x4Q5S3MA-I"
      },
      "source": [
        "## Training a polynomial regression model with no regularization"
      ]
    },
    {
      "cell_type": "code",
      "metadata": {
        "id": "QKm7sV7JMA-J",
        "outputId": "ea7b8ada-1d49-47fd-c88b-10c5cf08be65",
        "colab": {
          "base_uri": "https://localhost:8080/"
        }
      },
      "source": [
        "from sklearn.linear_model import LinearRegression\n",
        "## TODO ##\n",
        "# use sklearn linear regression to fit the data \n",
        "# normalization trick ;)\n",
        "\n",
        "model_no_reg = LinearRegression(normalize=True).fit(X_train,y_train)"
      ],
      "execution_count": 26,
      "outputs": [
        {
          "output_type": "stream",
          "name": "stderr",
          "text": [
            "/usr/local/lib/python3.7/dist-packages/sklearn/linear_model/_base.py:145: FutureWarning: 'normalize' was deprecated in version 1.0 and will be removed in 1.2.\n",
            "If you wish to scale the data, use Pipeline with a StandardScaler in a preprocessing stage. To reproduce the previous behavior:\n",
            "\n",
            "from sklearn.pipeline import make_pipeline\n",
            "\n",
            "model = make_pipeline(StandardScaler(with_mean=False), LinearRegression())\n",
            "\n",
            "If you wish to pass a sample_weight parameter, you need to pass it as a fit parameter to each step of the pipeline as follows:\n",
            "\n",
            "kwargs = {s[0] + '__sample_weight': sample_weight for s in model.steps}\n",
            "model.fit(X, y, **kwargs)\n",
            "\n",
            "\n",
            "  FutureWarning,\n"
          ]
        }
      ]
    },
    {
      "cell_type": "code",
      "metadata": {
        "id": "uje8MamakgwD",
        "outputId": "80f062f8-2ac8-4547-c5e5-6b33b19c5e44",
        "colab": {
          "base_uri": "https://localhost:8080/",
          "height": 362
        }
      },
      "source": [
        "display_results(model_no_reg)"
      ],
      "execution_count": 27,
      "outputs": [
        {
          "output_type": "stream",
          "name": "stdout",
          "text": [
            "Training error (rmse): 8.3837203469239e-07\n",
            "Testing error (rmse): 26291575735.959408\n"
          ]
        },
        {
          "output_type": "display_data",
          "data": {
            "text/plain": [
              "<Figure size 432x288 with 1 Axes>"
            ],
            "image/png": "[encoded data removed]"
          },
          "metadata": {
            "needs_background": "light"
          }
        },
        {
          "output_type": "stream",
          "name": "stdout",
          "text": [
            "Polynomial coefficients\n",
            "[15.55838980595534, 12.346462819496727, -56.63301368804327, -70.05670532757834, 212.9194195869356, 95.16884090423368, -289.05765861596814, -43.849049646771, 187.02633702638033, 3.655250513897949, -66.04622338704424, 3.0735669913739425, 13.494463441769563, -1.1098149727550977, -1.578206716144053, 0.16143417694517653, 0.09193671998399912, -0.010323657014680411, -0.0008166434754145639, 6.903769824109577e-05, -0.00013872139136029098, 1.8469509077098587e-05, 3.149946213843478e-07, 5.0070236303016203e-08, 2.3405462125297376e-07, -3.219931955594591e-08, 6.9058709115022576e-09, -1.2002690609987544e-09, -1.0925673606015876e-10, 5.9761843571719485e-12, -1.6495943306755053e-11, 2.434154219545568e-12, -6.798947121193156e-13, 1.2372795229243935e-13, -1.1328461132119933e-14, 3.071828338446028e-15, 4.3123560373527866e-16, -2.387396340338252e-17, 4.5604909525805105e-17, -6.985759849968455e-18, 2.2861031982281243e-18, -4.385875525552972e-19, 8.082055525355179e-20, -1.885626311642128e-20, 1.933325309071933e-21, -6.038847483145906e-22, 8.224763253814422e-24, -1.1946014376989904e-23, -2.437228846968669e-24, 1.4479978619157708e-25, -1.883556252558346e-25, 3.141536020220915e-26, -9.952112852317944e-27, 2.154279068226591e-27, -4.420544447306861e-28, 1.1259804316784537e-28, -1.7530660341239453e-29, 5.084327310351795e-30, -6.346047954932859e-31, 2.0638204069709983e-31, -2.102774424739382e-32, 7.607628016763726e-33, -6.263430207921748e-34, 2.5165392946382527e-34, -1.571550283383015e-35, 7.104852847320764e-36, -2.4972867011067068e-37, 1.4103903996646334e-37, 4.797518556961931e-39, -6.942564619755107e-40, 7.584504911620752e-40, -2.915894506706398e-40, 5.198502187281304e-41, -2.2144056265712218e-41, 2.91382033924149e-42, -1.2859986048148041e-42, 1.4923879720017635e-43, -6.618886781837076e-44, 7.274078100615602e-45, -3.1725313829003735e-45, 3.4392767612632854e-46, -1.44919439634688e-46, 1.59353126629515e-47, -6.389970249567993e-48, 7.276676187842046e-49, -2.741268410554719e-49, 3.285521362311277e-50, -1.1501849163153272e-50, 1.4696039849675803e-51, -4.737480358364044e-52, 6.519366656233266e-53, -1.9206893956120073e-53, 2.8702189483284167e-54, -7.680185934282028e-55, 1.2546481099854036e-55, -3.0336112829911615e-56, 5.447136015329357e-57, -1.185055385505281e-57, 2.349479743084049e-58, -4.582605273677276e-59, 1.007027414354693e-59, -1.75548565907551e-60, 4.290229579372673e-61, -6.6656032734896344e-62, 1.8171597799954972e-62, -2.5097476409403284e-63, 7.653876990036742e-64, -9.373919754108773e-65, 3.206581027694104e-65, -3.474040125253667e-66, 1.3365033683216404e-66, -1.2778375765800172e-67, 5.543059917211605e-68, -4.666081977951975e-69, 2.2880109878925113e-69, -1.691986140826671e-70, 9.400755497577908e-71, -6.095322756985376e-72, 3.8451802050878295e-72, -2.18294823240123e-73, 1.565887341497718e-73, -7.780424146637841e-75, 6.349168936711667e-75, -2.7643498103181774e-76, 2.563270107369914e-76, -9.81588756775956e-78, 1.0303319375237928e-77, -3.496588889576584e-79, 4.123141240781043e-79, -1.2561365352300933e-80, 1.6424179021812529e-80, -4.5824273439910686e-82, 6.510950405590802e-82, -1.7113985434376937e-83, 2.567875546522338e-83, -6.596726681070769e-85, 1.0071445618438782e-84, -2.640857025323982e-86, 3.925989580080152e-86, -1.1006702010140505e-87, 1.5199230682837365e-87, -4.765890071921099e-89, 5.838170335824483e-89, -2.130941246071017e-90, 2.221997277444777e-90, -9.760919248670823e-92, 8.364496302947787e-92, -4.544076757186871e-93, 3.106518167843782e-93, -2.1355095865195145e-94, 1.1342189648129182e-94, -1.007881211103171e-95, 4.0492157750784205e-96, -4.760179379374554e-97, 1.401523779715942e-97, -2.2443604980484162e-98, 4.6343926190894665e-99, -1.054860980763638e-99, 1.422616018883266e-100, -4.938117396882175e-101, 3.783243101737747e-102, -2.3016297298051074e-102, 6.717736875419988e-104, -1.0679543081287272e-103, -1.0181518300991965e-105, -4.9332774106543286e-105, -2.0358628813089244e-106, -2.2691048667984975e-106, -1.528986126587372e-107, -1.0394164460326918e-107, -9.2483249273215e-109, -4.743009877637401e-109, -5.070530501206409e-110, -2.1564983967692346e-110, -2.6279811317432452e-111, -9.772001546217888e-112, -1.3132912782132695e-112, -4.4143036122552826e-113, -6.397658157015686e-114, -1.9882977665306732e-114, -3.058584324024232e-115, -8.931734003562323e-116, -1.4413122001883918e-116, -4.002305232254578e-117, -6.715059392488041e-118, -1.7893054977519823e-118, -3.0999501896721003e-119, -7.982386701026359e-120, -1.4202557375512996e-120, -3.554079032005726e-121, -6.466094555379615e-122, -1.5795250112572932e-122, -2.928140936568903e-123, -7.007948360324503e-124, -1.3199481630258236e-124, -3.1043650193706446e-125, -5.926669248687651e-126, -1.373153661552442e-126, -2.6520069349373888e-127, -6.065624110553958e-128, -1.1831301336656615e-128]\n"
          ]
        }
      ]
    },
    {
      "cell_type": "markdown",
      "metadata": {
        "id": "TLTU-3ojMA-J"
      },
      "source": [
        "## Training a polynomial regression model with L1 regularization"
      ]
    },
    {
      "cell_type": "code",
      "metadata": {
        "id": "sBfyPNvMMA-J",
        "outputId": "f671790f-4571-4af4-972a-eeb1b2c8b4b0",
        "colab": {
          "base_uri": "https://localhost:8080/"
        }
      },
      "source": [
        "from sklearn import linear_model\n",
        "## TODO ##\n",
        "# use sklearn Lasso (linear regression with L1 Norm) to fit the data \n",
        "# normalization trick ;)\n",
        "\n",
        "model_L1_reg = linear_model.Lasso(normalize=True,alpha=0.1).fit(X_train,y_train)"
      ],
      "execution_count": 39,
      "outputs": [
        {
          "output_type": "stream",
          "name": "stderr",
          "text": [
            "/usr/local/lib/python3.7/dist-packages/sklearn/linear_model/_base.py:145: FutureWarning: 'normalize' was deprecated in version 1.0 and will be removed in 1.2.\n",
            "If you wish to scale the data, use Pipeline with a StandardScaler in a preprocessing stage. To reproduce the previous behavior:\n",
            "\n",
            "from sklearn.pipeline import make_pipeline\n",
            "\n",
            "model = make_pipeline(StandardScaler(with_mean=False), Lasso())\n",
            "\n",
            "If you wish to pass a sample_weight parameter, you need to pass it as a fit parameter to each step of the pipeline as follows:\n",
            "\n",
            "kwargs = {s[0] + '__sample_weight': sample_weight for s in model.steps}\n",
            "model.fit(X, y, **kwargs)\n",
            "\n",
            "Set parameter alpha to: original_alpha * np.sqrt(n_samples). \n",
            "  FutureWarning,\n"
          ]
        }
      ]
    },
    {
      "cell_type": "code",
      "metadata": {
        "id": "LOYlQsU5MA-K",
        "outputId": "fdcbd837-1cb1-4711-ce72-eb53eaf3bd3f",
        "colab": {
          "base_uri": "https://localhost:8080/",
          "height": 362
        }
      },
      "source": [
        "display_results(model_L1_reg)"
      ],
      "execution_count": 40,
      "outputs": [
        {
          "output_type": "stream",
          "name": "stdout",
          "text": [
            "Training error (rmse): 2.3190568529612943\n",
            "Testing error (rmse): 2.834983995718384\n"
          ]
        },
        {
          "output_type": "display_data",
          "data": {
            "text/plain": [
              "<Figure size 432x288 with 1 Axes>"
            ],
            "image/png": "[encoded data removed]"
          },
          "metadata": {
            "needs_background": "light"
          }
        },
        {
          "output_type": "stream",
          "name": "stdout",
          "text": [
            "Polynomial coefficients\n",
            "[13.013759030797774, 1.0646146485403425, -0.7444675856814591, 0.0, -0.005904572784711794, 0.0, -0.0, 0.0, -0.0, 0.0, -0.0, 0.0, -0.0, 0.0, -0.0, 0.0, -0.0, 0.0, -0.0, 0.0, -0.0, 0.0, -0.0, 0.0, -0.0, 0.0, -0.0, 0.0, -0.0, 0.0, -0.0, 0.0, -0.0, 0.0, -0.0, 0.0, -0.0, 0.0, 0.0, 0.0, 0.0, 0.0, 0.0, 0.0, 0.0, 0.0, 0.0, 0.0, 0.0, 0.0, 0.0, 0.0, 0.0, 0.0, 0.0, 0.0, 0.0, 0.0, 0.0, 0.0, 0.0, 0.0, 0.0, 0.0, 0.0, 0.0, 0.0, 0.0, 0.0, 0.0, 0.0, 0.0, 0.0, 0.0, 0.0, 0.0, 0.0, 0.0, 0.0, 0.0, 0.0, 0.0, 0.0, 0.0, 0.0, 0.0, 0.0, 0.0, 0.0, 0.0, 0.0, 0.0, 0.0, 0.0, 0.0, 0.0, 0.0, 0.0, 0.0, 0.0, 0.0, 0.0, 0.0, 0.0, 0.0, 0.0, 0.0, 0.0, 0.0, 0.0, 0.0, 0.0, 0.0, 0.0, 0.0, 0.0, 0.0, 0.0, 0.0, 0.0, 0.0, 0.0, 0.0, 0.0, 0.0, 0.0, 0.0, 0.0, 0.0, 0.0, 0.0, 0.0, 0.0, 0.0, 0.0, 0.0, 0.0, 0.0, 0.0, 0.0, 0.0, 0.0, 0.0, 0.0, 0.0, 0.0, 0.0, 0.0, 0.0, 0.0, 0.0, 0.0, 0.0, 0.0, 0.0, 0.0, 0.0, 0.0, 0.0, 0.0, 0.0, 0.0, 0.0, 0.0, 0.0, 0.0, 0.0, 0.0, 0.0, 0.0, 0.0, 0.0, 0.0, 0.0, 0.0, 0.0, 0.0, 0.0, 0.0, 0.0, 0.0, 0.0, 0.0, 0.0, 0.0, 0.0, 0.0, 0.0, 0.0, 0.0, 0.0, 0.0, 0.0, 0.0, 0.0, 0.0, 0.0, 0.0, 0.0, 0.0, 0.0]\n"
          ]
        }
      ]
    },
    {
      "cell_type": "markdown",
      "metadata": {
        "id": "21v4zgmbMA-K"
      },
      "source": [
        "## Training a polynomial regression model with L2 regularization"
      ]
    },
    {
      "cell_type": "code",
      "metadata": {
        "id": "MrSeiPXPMA-K",
        "outputId": "09bc19a6-e320-43fb-b5e3-bf6436c2eb56",
        "colab": {
          "base_uri": "https://localhost:8080/"
        }
      },
      "source": [
        "from sklearn import linear_model\n",
        "## TODO ##\n",
        "# use sklearn Ridge (linear regression with L2 Norm) to fit the data \n",
        "# normalization trick ;)\n",
        "\n",
        "model_L2_reg =linear_model.Ridge(normalize=True,alpha=0.1).fit(X_train,y_train)"
      ],
      "execution_count": 32,
      "outputs": [
        {
          "output_type": "stream",
          "name": "stderr",
          "text": [
            "/usr/local/lib/python3.7/dist-packages/sklearn/linear_model/_base.py:145: FutureWarning: 'normalize' was deprecated in version 1.0 and will be removed in 1.2.\n",
            "If you wish to scale the data, use Pipeline with a StandardScaler in a preprocessing stage. To reproduce the previous behavior:\n",
            "\n",
            "from sklearn.pipeline import make_pipeline\n",
            "\n",
            "model = make_pipeline(StandardScaler(with_mean=False), Ridge())\n",
            "\n",
            "If you wish to pass a sample_weight parameter, you need to pass it as a fit parameter to each step of the pipeline as follows:\n",
            "\n",
            "kwargs = {s[0] + '__sample_weight': sample_weight for s in model.steps}\n",
            "model.fit(X, y, **kwargs)\n",
            "\n",
            "Set parameter alpha to: original_alpha * n_samples. \n",
            "  FutureWarning,\n"
          ]
        }
      ]
    },
    {
      "cell_type": "code",
      "metadata": {
        "id": "TyLoFFM_MA-L",
        "outputId": "e7ff1f95-4123-4635-97ab-7d7a9402ecbe",
        "colab": {
          "base_uri": "https://localhost:8080/",
          "height": 362
        }
      },
      "source": [
        "display_results(model_L2_reg)"
      ],
      "execution_count": 33,
      "outputs": [
        {
          "output_type": "stream",
          "name": "stdout",
          "text": [
            "Training error (rmse): 2.1300877558697584\n",
            "Testing error (rmse): 17.52446776537137\n"
          ]
        },
        {
          "output_type": "display_data",
          "data": {
            "text/plain": [
              "<Figure size 432x288 with 1 Axes>"
            ],
            "image/png": "[encoded data removed]"
          },
          "metadata": {
            "needs_background": "light"
          }
        },
        {
          "output_type": "stream",
          "name": "stdout",
          "text": [
            "Polynomial coefficients\n",
            "[12.425805383299668, 0.9947532963480732, -0.48235717298365194, 0.014557970466695018, -0.012832094007400154, -0.00013884524467970363, -0.0003424463302320283, -1.7815912051676863e-05, -8.743485312130912e-06, -7.129904719110619e-07, -1.9634694555735212e-07, -1.7333529313572785e-08, -2.980567101552726e-09, -5.605741524732513e-11, 3.3814220020054616e-11, 2.424032626322286e-11, 5.977601234981885e-12, 1.922170642921011e-12, 3.7033676643010156e-13, 1.0802796432396633e-13, 1.817413781893135e-14, 5.257557659432215e-15, 7.970882293365309e-16, 2.358669876316452e-16, 3.2569424557267937e-17, 1.0034089025430033e-17, 1.2626491206223838e-18, 4.1102724252421254e-19, 4.6819653227111244e-20, 1.636160512269429e-20, 1.6636731708214188e-21, 6.365923206942722e-22, 5.644234071040617e-23, 2.4299739156757596e-23, 1.8076871699030923e-24, 9.121583925151862e-25, 5.323375334673985e-26, 3.3716540447983404e-26, 1.3471376220568404e-27, 1.2277751524358827e-27, 2.2545986331182898e-29, 4.402835040498295e-29, -3.3255158551699022e-31, 1.5527765225953426e-30, -6.130675828895231e-32, 5.372080530757922e-32, -4.301361902042626e-33, 1.8152804615701182e-33, -2.42772462476169e-34, 5.947351297184565e-35, -1.2401442673573572e-35, 1.8649014520321587e-36, -5.980549378736562e-37, 5.457512097255258e-38, -2.778031408297884e-38, 1.405513404913294e-39, -1.2570041354859923e-39, 2.6075795979313855e-41, -5.579003108322975e-41, -1.251682103252509e-43, -2.440071822292528e-42, -5.029882661675822e-44, -1.0550704766103707e-43, -3.770184831095772e-45, -4.520862572878581e-45, -2.191947579701247e-46, -1.92308490207386e-46, -1.1434491671538458e-47, -8.132327476861206e-48, -5.6167954764087035e-49, -3.422531608626097e-49, -2.6560531461553906e-50, -1.434766197694663e-50, -1.2236709872500143e-51, -5.9955795257398425e-52, -5.532434391806909e-53, -2.498959681368212e-53, -2.4662588384412702e-54, -1.039405417912503e-54, -1.0875269750613252e-55, -4.316128522936391e-56, -4.754785044186439e-57, -1.7899721610439446e-57, -2.0647183180664346e-58, -7.416129188482003e-59, -8.916636828835168e-60, -3.0704747119528623e-60, -3.8335120138876686e-61, -1.2706725644964766e-61, -1.642106892377742e-62, -5.257160669703861e-63, -7.01293529369961e-64, -2.174887166778511e-64, -2.987617493211731e-65, -8.998267534027528e-66, -1.2701925675825453e-66, -3.7237304661459184e-67, -5.391312789252107e-68, -1.5415156579449257e-68, -2.2852598823170322e-69, -6.384322408873695e-70, -9.676272517093307e-71, -2.6455744686781104e-71, -4.0936498560673525e-72, -1.0969822073140104e-72, -1.7307261302599128e-73, -4.551821086394737e-74, -7.313656860503305e-75, -1.8901850690090082e-75, -3.08953625342582e-76, -7.855627650245988e-77, -1.3048490470429036e-77, -3.2676490999925075e-78, -5.510415377693615e-79, -1.3604588489038424e-79, -2.3270640272330035e-80, -5.669511234912424e-81, -9.828107822984621e-82, -2.364984199015929e-82, -4.151472802578775e-83, -9.87513730919978e-84, -1.7540191040557199e-84, -4.1276040755579534e-85, -7.412963806773918e-86, -1.7270250810316457e-86, -3.1339880228547913e-87, -7.233506648201184e-88, -1.3254712437571605e-88, -3.032850300391271e-89, -5.60825695458555e-90, -1.2729331070000569e-90, -2.3740228872327216e-91, -5.348253067669308e-92, -1.005435000442745e-92, -2.2494068086893922e-93, -4.2603569003034716e-94, -9.470447064260576e-95, -1.8062168408979032e-95, -3.991305863606575e-96, -7.661841199568042e-97, -1.6838222070540539e-97, -3.2519339764987144e-98, -7.1106268840186585e-99, -1.381020773584252e-99, -3.005681217231972e-100, -5.868295585563414e-101, -1.271725938282827e-101, -2.4950499452666385e-102, -5.385813460619572e-103, -1.061458853146849e-103, -2.283007187307542e-104, -4.5183923942191124e-105, -9.686167900089804e-106, -1.9245132661319249e-106, -4.1131599155059445e-107, -8.201864383959133e-108, -1.74810652592616e-108, -3.4974923161359393e-109, -7.435641286543781e-110, -1.492281004844418e-110, -3.165312067760413e-111, -6.370751579940806e-112, -1.3485013422616746e-112, -2.7212784810241096e-113, -5.749261463595994e-114, -1.163035952360037e-114, -2.452943789490144e-115, -4.9733188592163307e-116, -1.0472901567524069e-116, -2.127782870822185e-117, -4.474447373886313e-118, -9.108160668094679e-119, -1.9129071455604642e-119, -3.900773298334863e-120, -8.183135307005043e-121, -1.671404136790927e-121, -3.502727322055005e-122, -7.165011421641291e-123, -1.5001795752695863e-123, -3.072916445347633e-124, -6.428656860723192e-125, -1.3184898135261764e-125, -2.7563051199298684e-126, -5.6596376718559585e-127, -1.1823732335904966e-127, -2.430412216693977e-128, -5.0744921613594855e-129, -1.0441054329811092e-129, -2.178873343557982e-130, -4.4872012899139494e-131, -9.359739495420531e-132, -1.9291555927168382e-132, -4.022343545930829e-133, -8.296850604555342e-134, -1.7292974924195288e-134, -3.5695008101953935e-135, -7.437504252354571e-136, -1.5361863366376972e-136, -3.199954515389364e-137, -6.61327566807939e-138, -1.37724698868642e-138]\n"
          ]
        }
      ]
    },
    {
      "cell_type": "markdown",
      "metadata": {
        "id": "1EsLoBMqMA-L"
      },
      "source": [
        "## Viewing the predictions in the testing set"
      ]
    },
    {
      "cell_type": "code",
      "metadata": {
        "id": "TPp6zYZ6MA-L",
        "outputId": "e471e611-f87d-407d-e7e3-ad0ad76b82c7",
        "colab": {
          "base_uri": "https://localhost:8080/",
          "height": 300
        }
      },
      "source": [
        "import pandas as pd\n",
        "from IPython.display import display\n",
        "predictions={}\n",
        "predictions ['x']=X_test[:,0]\n",
        "predictions ['y']=y_test\n",
        "predictions['No reg'] = model_no_reg.predict(X_test)\n",
        "predictions['L1 reg'] = model_L1_reg.predict(X_test)\n",
        "predictions['L2 reg'] = model_L2_reg.predict(X_test)\n",
        "predictions=pd.DataFrame.from_dict(predictions)\n",
        "display(predictions)"
      ],
      "execution_count": 41,
      "outputs": [
        {
          "output_type": "display_data",
          "data": {
            "text/plain": [
              "          x          y        No reg     L1 reg     L2 reg\n",
              "0  4.882351  -3.729068 -6.977677e+10  -2.889651 -50.644013\n",
              "1  2.052834  12.252654  1.155010e+01  11.957096  12.296242\n",
              "2 -0.135558  16.209157  1.308436e+01  12.855760  12.282054\n",
              "3 -1.674639  14.018163  2.025484e+01   9.096681   9.232369\n",
              "4  1.301473  15.447143  1.407473e+01  13.121382  12.896316\n",
              "5  0.759529  13.691649  1.198173e+01  13.390928  12.905089\n",
              "6 -4.636080  -6.081231  6.871790e+08 -10.650567 -16.427899\n",
              "7 -4.772174 -13.371921  2.570420e+10 -12.083351 -23.537398"
            ],
            "text/html": [
              "\n",
              "  <div id=\"df-1efebb19-2e4d-4b76-a654-daa1453f2129\">\n",
              "    <div class=\"colab-df-container\">\n",
              "      <div>\n",
              "<style scoped>\n",
              "    .dataframe tbody tr th:only-of-type {\n",
              "        vertical-align: middle;\n",
              "    }\n",
              "\n",
              "    .dataframe tbody tr th {\n",
              "        vertical-align: top;\n",
              "    }\n",
              "\n",
              "    .dataframe thead th {\n",
              "        text-align: right;\n",
              "    }\n",
              "</style>\n",
              "<table border=\"1\" class=\"dataframe\">\n",
              "  <thead>\n",
              "    <tr style=\"text-align: right;\">\n",
              "      <th></th>\n",
              "      <th>x</th>\n",
              "      <th>y</th>\n",
              "      <th>No reg</th>\n",
              "      <th>L1 reg</th>\n",
              "      <th>L2 reg</th>\n",
              "    </tr>\n",
              "  </thead>\n",
              "  <tbody>\n",
              "    <tr>\n",
              "      <th>0</th>\n",
              "      <td>4.882351</td>\n",
              "      <td>-3.729068</td>\n",
              "      <td>-6.977677e+10</td>\n",
              "      <td>-2.889651</td>\n",
              "      <td>-50.644013</td>\n",
              "    </tr>\n",
              "    <tr>\n",
              "      <th>1</th>\n",
              "      <td>2.052834</td>\n",
              "      <td>12.252654</td>\n",
              "      <td>1.155010e+01</td>\n",
              "      <td>11.957096</td>\n",
              "      <td>12.296242</td>\n",
              "    </tr>\n",
              "    <tr>\n",
              "      <th>2</th>\n",
              "      <td>-0.135558</td>\n",
              "      <td>16.209157</td>\n",
              "      <td>1.308436e+01</td>\n",
              "      <td>12.855760</td>\n",
              "      <td>12.282054</td>\n",
              "    </tr>\n",
              "    <tr>\n",
              "      <th>3</th>\n",
              "      <td>-1.674639</td>\n",
              "      <td>14.018163</td>\n",
              "      <td>2.025484e+01</td>\n",
              "      <td>9.096681</td>\n",
              "      <td>9.232369</td>\n",
              "    </tr>\n",
              "    <tr>\n",
              "      <th>4</th>\n",
              "      <td>1.301473</td>\n",
              "      <td>15.447143</td>\n",
              "      <td>1.407473e+01</td>\n",
              "      <td>13.121382</td>\n",
              "      <td>12.896316</td>\n",
              "    </tr>\n",
              "    <tr>\n",
              "      <th>5</th>\n",
              "      <td>0.759529</td>\n",
              "      <td>13.691649</td>\n",
              "      <td>1.198173e+01</td>\n",
              "      <td>13.390928</td>\n",
              "      <td>12.905089</td>\n",
              "    </tr>\n",
              "    <tr>\n",
              "      <th>6</th>\n",
              "      <td>-4.636080</td>\n",
              "      <td>-6.081231</td>\n",
              "      <td>6.871790e+08</td>\n",
              "      <td>-10.650567</td>\n",
              "      <td>-16.427899</td>\n",
              "    </tr>\n",
              "    <tr>\n",
              "      <th>7</th>\n",
              "      <td>-4.772174</td>\n",
              "      <td>-13.371921</td>\n",
              "      <td>2.570420e+10</td>\n",
              "      <td>-12.083351</td>\n",
              "      <td>-23.537398</td>\n",
              "    </tr>\n",
              "  </tbody>\n",
              "</table>\n",
              "</div>\n",
              "      <button class=\"colab-df-convert\" onclick=\"convertToInteractive('df-1efebb19-2e4d-4b76-a654-daa1453f2129')\"\n",
              "              title=\"Convert this dataframe to an interactive table.\"\n",
              "              style=\"display:none;\">\n",
              "        \n",
              "  <svg xmlns=\"http://www.w3.org/2000/svg\" height=\"24px\"viewBox=\"0 0 24 24\"\n",
              "       width=\"24px\">\n",
              "    <path d=\"M0 0h24v24H0V0z\" fill=\"none\"/>\n",
              "    <path d=\"M18.56 5.44l.94 2.06.94-2.06 2.06-.94-2.06-.94-.94-2.06-.94 2.06-2.06.94zm-11 1L8.5 8.5l.94-2.06 2.06-.94-2.06-.94L8.5 2.5l-.94 2.06-2.06.94zm10 10l.94 2.06.94-2.06 2.06-.94-2.06-.94-.94-2.06-.94 2.06-2.06.94z\"/><path d=\"M17.41 7.96l-1.37-1.37c-.4-.4-.92-.59-1.43-.59-.52 0-1.04.2-1.43.59L10.3 9.45l-7.72 7.72c-.78.78-.78 2.05 0 2.83L4 21.41c.39.39.9.59 1.41.59.51 0 1.02-.2 1.41-.59l7.78-7.78 2.81-2.81c.8-.78.8-2.07 0-2.86zM5.41 20L4 18.59l7.72-7.72 1.47 1.35L5.41 20z\"/>\n",
              "  </svg>\n",
              "      </button>\n",
              "      \n",
              "  <style>\n",
              "    .colab-df-container {\n",
              "      display:flex;\n",
              "      flex-wrap:wrap;\n",
              "      gap: 12px;\n",
              "    }\n",
              "\n",
              "    .colab-df-convert {\n",
              "      background-color: #E8F0FE;\n",
              "      border: none;\n",
              "      border-radius: 50%;\n",
              "      cursor: pointer;\n",
              "      display: none;\n",
              "      fill: #1967D2;\n",
              "      height: 32px;\n",
              "      padding: 0 0 0 0;\n",
              "      width: 32px;\n",
              "    }\n",
              "\n",
              "    .colab-df-convert:hover {\n",
              "      background-color: #E2EBFA;\n",
              "      box-shadow: 0px 1px 2px rgba(60, 64, 67, 0.3), 0px 1px 3px 1px rgba(60, 64, 67, 0.15);\n",
              "      fill: #174EA6;\n",
              "    }\n",
              "\n",
              "    [theme=dark] .colab-df-convert {\n",
              "      background-color: #3B4455;\n",
              "      fill: #D2E3FC;\n",
              "    }\n",
              "\n",
              "    [theme=dark] .colab-df-convert:hover {\n",
              "      background-color: #434B5C;\n",
              "      box-shadow: 0px 1px 3px 1px rgba(0, 0, 0, 0.15);\n",
              "      filter: drop-shadow(0px 1px 2px rgba(0, 0, 0, 0.3));\n",
              "      fill: #FFFFFF;\n",
              "    }\n",
              "  </style>\n",
              "\n",
              "      <script>\n",
              "        const buttonEl =\n",
              "          document.querySelector('#df-1efebb19-2e4d-4b76-a654-daa1453f2129 button.colab-df-convert');\n",
              "        buttonEl.style.display =\n",
              "          google.colab.kernel.accessAllowed ? 'block' : 'none';\n",
              "\n",
              "        async function convertToInteractive(key) {\n",
              "          const element = document.querySelector('#df-1efebb19-2e4d-4b76-a654-daa1453f2129');\n",
              "          const dataTable =\n",
              "            await google.colab.kernel.invokeFunction('convertToInteractive',\n",
              "                                                     [key], {});\n",
              "          if (!dataTable) return;\n",
              "\n",
              "          const docLinkHtml = 'Like what you see? Visit the ' +\n",
              "            '<a target=\"_blank\" href=https://colab.research.google.com/notebooks/data_table.ipynb>data table notebook</a>'\n",
              "            + ' to learn more about interactive tables.';\n",
              "          element.innerHTML = '';\n",
              "          dataTable['output_type'] = 'display_data';\n",
              "          await google.colab.output.renderOutput(dataTable, element);\n",
              "          const docLink = document.createElement('div');\n",
              "          docLink.innerHTML = docLinkHtml;\n",
              "          element.appendChild(docLink);\n",
              "        }\n",
              "      </script>\n",
              "    </div>\n",
              "  </div>\n",
              "  "
            ]
          },
          "metadata": {}
        }
      ]
    }
  ]
}